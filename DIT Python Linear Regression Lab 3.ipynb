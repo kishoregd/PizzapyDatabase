{
    "metadata": {
        "kernelspec": {
            "name": "python3",
            "display_name": "Python 3"
        },
        "language_info": {
            "name": "python",
            "version": "3.6.6",
            "mimetype": "text/x-python",
            "codemirror_mode": {
                "name": "ipython",
                "version": 3
            },
            "pygments_lexer": "ipython3",
            "nbconvert_exporter": "python",
            "file_extension": ".py"
        }
    },
    "nbformat_minor": 2,
    "nbformat": 4,
    "cells": [
        {
            "cell_type": "markdown",
            "source": [
                "<h1>Do It Yourself Python Series</h1>\r\n",
                "<h2>Using Linear Regression to create Model for Prediction</h2> "
            ],
            "metadata": {
                "azdata_cell_guid": "b9b5b8c3-cae3-485b-811e-27160b0c8228"
            }
        },
        {
            "cell_type": "code",
            "source": [
                "# How to create simple Model using Linear Regression method and run predictions\r\n",
                "msg = \"Welcome to DIY Python Series by Kishore\"\r\n",
                "print(msg)"
            ],
            "metadata": {
                "azdata_cell_guid": "eb4c073c-9a39-4f0d-862a-f8a331b118a3",
                "tags": []
            },
            "outputs": [
                {
                    "name": "stdout",
                    "text": "Welcome to DIY Python Series by Kishore\n",
                    "output_type": "stream"
                }
            ],
            "execution_count": 1
        },
        {
            "cell_type": "markdown",
            "source": [
                "<h1>Import required modules </h1>"
            ],
            "metadata": {
                "azdata_cell_guid": "a7f2b0e9-dbe9-49bc-8359-39d1c7432bc5"
            }
        },
        {
            "cell_type": "code",
            "source": [
                "import pandas as pd\r\n",
                "import numpy as np \r\n",
                "from sklearn import preprocessing\r\n",
                "from sklearn.linear_model import LinearRegression\r\n",
                "from sklearn.model_selection import KFold\r\n",
                "import matplotlib.pyplot as plt\r\n",
                "\r\n",
                "%matplotlib inline"
            ],
            "metadata": {
                "azdata_cell_guid": "e0f35ef3-2a38-4c0d-8140-af951553c8be"
            },
            "outputs": [],
            "execution_count": 10
        },
        {
            "cell_type": "markdown",
            "source": [
                "<h1>Read CSV file using pandas module</h1>\r\n",
                ""
            ],
            "metadata": {
                "azdata_cell_guid": "515c995e-9bc6-4a63-bf18-05f58417d90d"
            }
        },
        {
            "cell_type": "code",
            "source": [
                "dataFrame = pd.read_csv('C:\\\\Pizzapy\\\\diypython-lab3-sample1.csv')"
            ],
            "metadata": {
                "azdata_cell_guid": "3761fa92-4b53-4c37-9abb-e49991cc6ecf"
            },
            "outputs": [],
            "execution_count": 6
        },
        {
            "cell_type": "code",
            "source": [
                "dataFrame.head()"
            ],
            "metadata": {
                "azdata_cell_guid": "a3cd4f6b-8bfc-4b4b-8201-b1ac76681c44"
            },
            "outputs": [
                {
                    "data": {
                        "text/plain": "   WeekDayNbr  Orders\n0           1      12\n1           2      24\n2           3      36\n3           4      48\n4           5      60",
                        "text/html": "<div>\n<style scoped>\n    .dataframe tbody tr th:only-of-type {\n        vertical-align: middle;\n    }\n\n    .dataframe tbody tr th {\n        vertical-align: top;\n    }\n\n    .dataframe thead th {\n        text-align: right;\n    }\n</style>\n<table border=\"1\" class=\"dataframe\">\n  <thead>\n    <tr style=\"text-align: right;\">\n      <th></th>\n      <th>WeekDayNbr</th>\n      <th>Orders</th>\n    </tr>\n  </thead>\n  <tbody>\n    <tr>\n      <th>0</th>\n      <td>1</td>\n      <td>12</td>\n    </tr>\n    <tr>\n      <th>1</th>\n      <td>2</td>\n      <td>24</td>\n    </tr>\n    <tr>\n      <th>2</th>\n      <td>3</td>\n      <td>36</td>\n    </tr>\n    <tr>\n      <th>3</th>\n      <td>4</td>\n      <td>48</td>\n    </tr>\n    <tr>\n      <th>4</th>\n      <td>5</td>\n      <td>60</td>\n    </tr>\n  </tbody>\n</table>\n</div>"
                    },
                    "metadata": {},
                    "execution_count": 7,
                    "output_type": "execute_result"
                }
            ],
            "execution_count": 7
        },
        {
            "cell_type": "markdown",
            "source": [
                "<h1>Using Histogram to understand the data distribution by features</h1>"
            ],
            "metadata": {
                "azdata_cell_guid": "e00bb0d2-3a0a-4d50-a8c0-d9141301565d"
            }
        },
        {
            "cell_type": "code",
            "source": [
                "dataFrame.hist()"
            ],
            "metadata": {
                "azdata_cell_guid": "7a07899b-8161-4d4b-882c-4bb6fcfdc86f"
            },
            "outputs": [
                {
                    "data": {
                        "text/plain": "array([[<matplotlib.axes._subplots.AxesSubplot object at 0x000002419EDF86A0>,\n        <matplotlib.axes._subplots.AxesSubplot object at 0x000002419EE59860>]],\n      dtype=object)"
                    },
                    "metadata": {},
                    "execution_count": 8,
                    "output_type": "execute_result"
                },
                {
                    "data": {
                        "text/plain": "<Figure size 432x288 with 2 Axes>",
                        "image/png": "[encoded data removed]"
                    },
                    "metadata": {
                        "needs_background": "light"
                    },
                    "output_type": "display_data"
                }
            ],
            "execution_count": 8
        },
        {
            "cell_type": "markdown",
            "source": [
                "<h1>Scatter Plot Visulization<h1>"
            ],
            "metadata": {
                "azdata_cell_guid": "a5b47bce-6955-41fc-ba06-654cb2252869"
            }
        },
        {
            "cell_type": "code",
            "source": [
                "plt.scatter(dataFrame['WeekDayNbr'],dataFrame['Orders'])"
            ],
            "metadata": {
                "azdata_cell_guid": "5a2789b2-4686-451e-b3f4-f9c61c44e80e"
            },
            "outputs": [
                {
                    "data": {
                        "text/plain": "<matplotlib.collections.PathCollection at 0x2419f03f358>"
                    },
                    "metadata": {},
                    "execution_count": 11,
                    "output_type": "execute_result"
                },
                {
                    "data": {
                        "text/plain": "<Figure size 432x288 with 1 Axes>",
                        "image/png": "[encoded data removed]"
                    },
                    "metadata": {
                        "needs_background": "light"
                    },
                    "output_type": "display_data"
                }
            ],
            "execution_count": 11
        },
        {
            "cell_type": "markdown",
            "source": [
                "<h1>Model<h2>Create the model using Linear Regression and run it through iterations to validate the confidence level i.e. r-squared value</h2>\r\n",
                ""
            ],
            "metadata": {
                "azdata_cell_guid": "9b65b145-1f91-48ec-b03d-74c0625f4089"
            }
        },
        {
            "cell_type": "code",
            "source": [
                "indVar = pd.DataFrame(dataFrame['WeekDayNbr'])  # This is the independent variable\r\n",
                "depVar = pd.DataFrame(dataFrame['Orders'])      # This is the dependent variable\r\n",
                "\r\n",
                "lrModel = LinearRegression()                    # From sklearn\r\n",
                "\r\n",
                "rValues  = []                                    # r-squared values\r\n",
                "\r\n",
                "cvVar   = KFold(n_splits=3, shuffle=False)      # Cross Validation Variable\r\n",
                "\r\n",
                "for i, (trainData, testData) in enumerate(cvVar.split(indVar, depVar)):\r\n",
                "    lrModel.fit(indVar.iloc[trainData,:],depVar.iloc[trainData,:])\r\n",
                "    score = lrModel.score(indVar.iloc[testData,:], depVar.iloc[testData,:])\r\n",
                "    rValues.append(score)\r\n",
                "\r\n",
                "print(rValues)"
            ],
            "metadata": {
                "azdata_cell_guid": "92649e1c-20fd-4cb8-b617-04ef60dfe675"
            },
            "outputs": [
                {
                    "name": "stdout",
                    "text": "[1.0, 1.0, 1.0]\n",
                    "output_type": "stream"
                }
            ],
            "execution_count": 15
        },
        {
            "cell_type": "markdown",
            "source": [
                "<h1>Predict</h1><h2>Use the model we had validated in the previous step. We have high confidence because of r-squared value = 1 </h2>\r\n",
                ""
            ],
            "metadata": {
                "azdata_cell_guid": "2683c534-491c-497c-b6d7-4ae1ad1f86b8"
            }
        },
        {
            "cell_type": "code",
            "source": [
                "predictionList = [[3],[6],[8],[7],[1],[0],[10]]\r\n",
                "\r\n",
                "# try to make prediction for the values in predictionList using the model we had developed earlier i.e. lrModel\r\n",
                "\r\n",
                "predictedValues = lrModel.predict(predictionList)\r\n",
                "\r\n",
                "print(predictedValues)"
            ],
            "metadata": {
                "azdata_cell_guid": "03e1c805-b529-4807-bb46-7f5d16d4980f"
            },
            "outputs": [
                {
                    "name": "stdout",
                    "text": "[[ 36.]\n [ 72.]\n [ 96.]\n [ 84.]\n [ 12.]\n [  0.]\n [120.]]\n",
                    "output_type": "stream"
                }
            ],
            "execution_count": 18
        }
    ]
}