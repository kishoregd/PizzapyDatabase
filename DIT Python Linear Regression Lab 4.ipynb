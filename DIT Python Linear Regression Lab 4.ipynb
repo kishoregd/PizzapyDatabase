{
    "metadata": {
        "kernelspec": {
            "name": "python3",
            "display_name": "Python 3"
        },
        "language_info": {
            "name": "python",
            "version": "3.6.6",
            "mimetype": "text/x-python",
            "codemirror_mode": {
                "name": "ipython",
                "version": 3
            },
            "pygments_lexer": "ipython3",
            "nbconvert_exporter": "python",
            "file_extension": ".py"
        }
    },
    "nbformat_minor": 2,
    "nbformat": 4,
    "cells": [
        {
            "cell_type": "markdown",
            "source": [
                "<h1>Do It Yourself Python Series by Kishore - Linear Regression Basics</h1>\r\n",
                "<h2>Lab #4 using Notebook feature in Azure Data Studio</h2>\r\n",
                "<a href=\"https://docs.microsoft.com/en-us/sql/azure-data-studio\">Get Azure Data Studio here</a> <b>It's Free!</b>\r\n",
                "<p>\r\n",
                "In this lab, we will be connecting to SQL Server using pyodbc module\r\n",
                ""
            ],
            "metadata": {
                "azdata_cell_guid": "2097ed57-32ee-4a6b-9a3c-21ede893523a"
            }
        },
        {
            "cell_type": "markdown",
            "source": [
                "<h2>Import Python Modules</h2>"
            ],
            "metadata": {
                "azdata_cell_guid": "edd35dc4-4bae-4952-b328-fbf20157ef0a"
            }
        },
        {
            "cell_type": "code",
            "source": [
                "import pyodbc           # python odbc\n",
                "import pandas as pd     # for dataframe\n",
                "import numpy as np \n",
                "\n",
                "from sklearn import preprocessing\n",
                "from sklearn.linear_model import LinearRegression\n",
                "from sklearn.model_selection import KFold\n",
                "import matplotlib.pyplot as plt\n",
                "\n",
                "%matplotlib inline"
            ],
            "metadata": {
                "azdata_cell_guid": "4cebeef6-ca55-4b3c-aa1d-bcd746614734"
            },
            "outputs": [],
            "execution_count": 2
        },
        {
            "cell_type": "markdown",
            "source": [
                "<h2>Define SQL Server ODBC Connectioin string</h2>"
            ],
            "metadata": {
                "azdata_cell_guid": "ba2cb6e6-4a2e-4090-a15b-73a8b5e9a3c0"
            }
        },
        {
            "cell_type": "code",
            "source": [
                "conn_str = ('server=WIN-EEL3AK31AJF;database=PizzapyDB;TRUSTED_CONNECTION=yes')"
            ],
            "metadata": {
                "azdata_cell_guid": "3ae892f1-2167-4110-801e-42fd6736b7a6"
            },
            "outputs": [],
            "execution_count": 3
        },
        {
            "cell_type": "markdown",
            "source": [
                "<h2>Connect to SQL Server using ODBC Driver for SQL Server</h2>"
            ],
            "metadata": {
                "azdata_cell_guid": "35bed8ef-002f-473a-9279-1f928589c0b4"
            }
        },
        {
            "cell_type": "code",
            "source": [
                "conn = pyodbc.connect(r'DRIVER={ODBC Driver 13 for SQL Server};' + conn_str)"
            ],
            "metadata": {
                "azdata_cell_guid": "005d2041-11aa-4741-b036-ce3617638b2a",
                "tags": []
            },
            "outputs": [],
            "execution_count": 4
        },
        {
            "cell_type": "markdown",
            "source": [
                "<h2>Get data from the Table</h2>"
            ],
            "metadata": {
                "azdata_cell_guid": "983c3330-6c8b-49cb-b8f5-2a39595a5280"
            }
        },
        {
            "cell_type": "code",
            "source": [
                "sql = \"SELECT * FROM [PizzapyDB].[dbo].[Order1]  WHERE OrderHr BETWEEN 8 and 20\"  # Orders between 8AM till 8PM.\r\n",
                "df = pd.read_sql(sql,conn)\r\n",
                "#print(df)"
            ],
            "metadata": {
                "azdata_cell_guid": "344a798d-bdbb-4cde-a594-2d5dbf1108a7"
            },
            "outputs": [],
            "execution_count": 5
        },
        {
            "cell_type": "markdown",
            "source": [
                "<h2>Quick check of data distribution</h2>"
            ],
            "metadata": {
                "azdata_cell_guid": "f3a90552-f791-410d-bfcc-0c6ac80389d4"
            }
        },
        {
            "cell_type": "code",
            "source": [
                "df.hist()"
            ],
            "metadata": {
                "azdata_cell_guid": "88a2f690-a88e-4a97-b3ab-f2a56e72c46d"
            },
            "outputs": [
                {
                    "data": {
                        "text/plain": "array([[<matplotlib.axes._subplots.AxesSubplot object at 0x0000022E73C20F98>,\n        <matplotlib.axes._subplots.AxesSubplot object at 0x0000022E741CB208>],\n       [<matplotlib.axes._subplots.AxesSubplot object at 0x0000022E73F8D470>,\n        <matplotlib.axes._subplots.AxesSubplot object at 0x0000022E73FC26D8>]],\n      dtype=object)"
                    },
                    "metadata": {},
                    "execution_count": 6,
                    "output_type": "execute_result"
                },
                {
                    "data": {
                        "text/plain": "<Figure size 432x288 with 4 Axes>",
                        "image/png": "[encoded data removed]"
                    },
                    "metadata": {
                        "needs_background": "light"
                    },
                    "output_type": "display_data"
                }
            ],
            "execution_count": 6
        },
        {
            "cell_type": "markdown",
            "source": [
                "<h2>Quick check for sample data from the Data Frame.</h2>"
            ],
            "metadata": {
                "azdata_cell_guid": "aefcb409-31eb-4a5c-9c8e-bd49acbe57e2"
            }
        },
        {
            "cell_type": "code",
            "source": [
                "df.head()"
            ],
            "metadata": {
                "azdata_cell_guid": "e0490684-4bd1-4b91-98bb-34973960f259"
            },
            "outputs": [
                {
                    "data": {
                        "text/plain": "              OrderDt  WeekDayNbr  OrderHr  Qty\n0 2018-03-09 14:00:00           6       14    6\n1 2019-02-26 14:00:00           3       14   13\n2 2016-02-15 14:00:00           2       14    9\n3 2019-09-28 09:00:00           7        9   11\n4 2015-01-23 16:00:00           6       16    8",
                        "text/html": "<div>\n<style scoped>\n    .dataframe tbody tr th:only-of-type {\n        vertical-align: middle;\n    }\n\n    .dataframe tbody tr th {\n        vertical-align: top;\n    }\n\n    .dataframe thead th {\n        text-align: right;\n    }\n</style>\n<table border=\"1\" class=\"dataframe\">\n  <thead>\n    <tr style=\"text-align: right;\">\n      <th></th>\n      <th>OrderDt</th>\n      <th>WeekDayNbr</th>\n      <th>OrderHr</th>\n      <th>Qty</th>\n    </tr>\n  </thead>\n  <tbody>\n    <tr>\n      <th>0</th>\n      <td>2018-03-09 14:00:00</td>\n      <td>6</td>\n      <td>14</td>\n      <td>6</td>\n    </tr>\n    <tr>\n      <th>1</th>\n      <td>2019-02-26 14:00:00</td>\n      <td>3</td>\n      <td>14</td>\n      <td>13</td>\n    </tr>\n    <tr>\n      <th>2</th>\n      <td>2016-02-15 14:00:00</td>\n      <td>2</td>\n      <td>14</td>\n      <td>9</td>\n    </tr>\n    <tr>\n      <th>3</th>\n      <td>2019-09-28 09:00:00</td>\n      <td>7</td>\n      <td>9</td>\n      <td>11</td>\n    </tr>\n    <tr>\n      <th>4</th>\n      <td>2015-01-23 16:00:00</td>\n      <td>6</td>\n      <td>16</td>\n      <td>8</td>\n    </tr>\n  </tbody>\n</table>\n</div>"
                    },
                    "metadata": {},
                    "execution_count": 7,
                    "output_type": "execute_result"
                }
            ],
            "execution_count": 7
        },
        {
            "cell_type": "markdown",
            "source": [
                "<h2>Scatter Chart Visulization. Useful in identifying any outliers.</h2>"
            ],
            "metadata": {
                "azdata_cell_guid": "946bc515-ae99-498c-b804-5b9b92302ecd"
            }
        },
        {
            "cell_type": "code",
            "source": [
                "plt.scatter(df['OrderHr'],df['Qty'])"
            ],
            "metadata": {
                "azdata_cell_guid": "74fec6f6-4875-48b3-8c87-67f569247ec4"
            },
            "outputs": [
                {
                    "data": {
                        "text/plain": "<matplotlib.collections.PathCollection at 0x22e7413e320>"
                    },
                    "metadata": {},
                    "execution_count": 8,
                    "output_type": "execute_result"
                },
                {
                    "data": {
                        "text/plain": "<Figure size 432x288 with 1 Axes>",
                        "image/png": "[encoded data removed]"
                    },
                    "metadata": {
                        "needs_background": "light"
                    },
                    "output_type": "display_data"
                }
            ],
            "execution_count": 8
        },
        {
            "cell_type": "markdown",
            "source": [
                "<h2>Scatter Chart Visulization. Useful in identifying any outliers. (WeekDayNbr vs Qty)</h2>"
            ],
            "metadata": {
                "azdata_cell_guid": "4ce8f46f-ecd0-400c-802c-9d01a14ef7f7"
            }
        },
        {
            "cell_type": "code",
            "source": [
                "plt.scatter(df['WeekDayNbr'],df['Qty'])"
            ],
            "metadata": {
                "azdata_cell_guid": "79147faa-90c5-4ab3-b1ff-6fbb30c51d2c"
            },
            "outputs": [
                {
                    "output_type": "execute_result",
                    "execution_count": 110,
                    "data": {
                        "text/plain": "<matplotlib.collections.PathCollection at 0x254550fc2e8>"
                    },
                    "metadata": {}
                },
                {
                    "output_type": "display_data",
                    "data": {
                        "text/plain": "<Figure size 432x288 with 1 Axes>",
                        "image/png": "[encoded data removed]"
                    },
                    "metadata": {
                        "needs_background": "light"
                    }
                }
            ],
            "execution_count": 110
        },
        {
            "cell_type": "markdown",
            "source": [
                "<h2>Apply Linear Regression. Fit and Score by Train Data and Test Data and finilize the Model</h2>"
            ],
            "metadata": {
                "azdata_cell_guid": "eef2bec5-a0b5-4196-8c20-777e2361fa12"
            }
        },
        {
            "cell_type": "code",
            "source": [
                "indVar = pd.DataFrame(df['OrderHr'])  # This is the independent variable\r\n",
                "depVar = pd.DataFrame(df['Qty'])      # This is the dependent variable\r\n",
                "\r\n",
                "lrModel = LinearRegression()                    # From sklearn\r\n",
                "\r\n",
                "rValues  = []                                    # r-squared values\r\n",
                "\r\n",
                "cvVar   = KFold(n_splits=4, shuffle=False)      # Cross Validation Variable\r\n",
                "\r\n",
                "for i, (trainData, testData) in enumerate(cvVar.split(indVar, depVar)):\r\n",
                "\r\n",
                "    lrModel.fit(indVar.iloc[trainData,:],depVar.iloc[trainData,:])\r\n",
                "\r\n",
                "    score = lrModel.score(indVar.iloc[testData,:], depVar.iloc[testData,:])\r\n",
                "\r\n",
                "    rValues.append(score)\r\n",
                "\r\n",
                "print(rValues)"
            ],
            "metadata": {
                "azdata_cell_guid": "9350e080-b70d-46c9-8b71-e82ece09a40a"
            },
            "outputs": [
                {
                    "name": "stdout",
                    "text": "[0.00940773958098473, 0.011292977410413685, 0.011223426723876218, 0.011931212096219057]\n",
                    "output_type": "stream"
                }
            ],
            "execution_count": 13
        },
        {
            "cell_type": "markdown",
            "source": [
                "<h2>Predict using the Model</h2>"
            ],
            "metadata": {
                "azdata_cell_guid": "14ef364f-5c5a-496b-a292-b3b27865e9e7"
            }
        },
        {
            "cell_type": "code",
            "source": [
                "forList = [[14]]\r\n",
                "\r\n",
                "# try to make prediction for the values in predictionList using the model we had developed earlier i.e. lrModel\r\n",
                "\r\n",
                "predictedValues = lrModel.predict(forList)\r\n",
                "\r\n",
                "print(predictedValues)"
            ],
            "metadata": {
                "azdata_cell_guid": "be1fee2b-65c6-4dee-bb0b-b1aace9d6638"
            },
            "outputs": [
                {
                    "name": "stdout",
                    "text": "[[8.06010427]]\n",
                    "output_type": "stream"
                }
            ],
            "execution_count": 14
        }
    ]
}