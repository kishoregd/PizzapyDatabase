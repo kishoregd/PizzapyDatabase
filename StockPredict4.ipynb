{
    "metadata": {
        "kernelspec": {
            "name": "python3",
            "display_name": "Python 3"
        },
        "language_info": {
            "name": "python",
            "version": "3.6.6",
            "mimetype": "text/x-python",
            "codemirror_mode": {
                "name": "ipython",
                "version": 3
            },
            "pygments_lexer": "ipython3",
            "nbconvert_exporter": "python",
            "file_extension": ".py"
        }
    },
    "nbformat_minor": 2,
    "nbformat": 4,
    "cells": [
        {
            "cell_type": "code",
            "source": [
                "# Stock Prediction - Create addtional features using existing Features\n",
                "\n",
                "# Imports\n",
                "import pandas as pd\n",
                "import numpy as np\n",
                "import matplotlib.pyplot as plt\n",
                "import pyodbc\n",
                "\n",
                "# For Training, Testing and building a Model\n",
                "from sklearn.tree import DecisionTreeRegressor\n",
                "from sklearn.linear_model import LinearRegression\n",
                "from sklearn import preprocessing,model_selection\n",
                "\n",
                "from datetime import datetime\n",
                "\n",
                "import pickle"
            ],
            "metadata": {
                "azdata_cell_guid": "8abacccb-b278-4586-b8a0-ffd6d62dd161",
                "tags": []
            },
            "outputs": [],
            "execution_count": 252
        },
        {
            "cell_type": "code",
            "source": [
                "conn_str = ('server=WIN-EEL3AK31AJF;database=DatapyDB;TRUSTED_CONNECTION=yes')\r\n",
                "#df = pd.read_csv('D:\\\\data\\\\XBIT_12032019.csv')"
            ],
            "metadata": {
                "azdata_cell_guid": "692dcb63-8dbd-4be2-90eb-c4e57223aa9e"
            },
            "outputs": [],
            "execution_count": 210
        },
        {
            "cell_type": "code",
            "source": [
                "conn = pyodbc.connect(r'DRIVER={ODBC Driver 13 for SQL Server};' + conn_str)"
            ],
            "metadata": {
                "azdata_cell_guid": "51ba1455-d5c3-476d-8b99-92acacd3577e"
            },
            "outputs": [],
            "execution_count": 211
        },
        {
            "cell_type": "code",
            "source": [
                "sql = \"SELECT * from [DatapyDB].[dbo].[vwStock] where StockSym = 'ROK'\"\r\n",
                "df = pd.read_sql(sql,conn)"
            ],
            "metadata": {
                "azdata_cell_guid": "4d6c3cda-c2da-48e8-928d-85f7d473c6cd"
            },
            "outputs": [],
            "execution_count": 212
        },
        {
            "cell_type": "code",
            "source": [
                "df.head()"
            ],
            "metadata": {
                "azdata_cell_guid": "2934defd-b066-46f6-a616-02e8a9abe62a"
            },
            "outputs": [
                {
                    "data": {
                        "text/plain": "  StockSym     StockDt  StockOpen  StockHigh  StockLow  StockClose  \\\n0      ROK  2014-01-02     117.62     117.99   116.011      116.38   \n1      ROK  2014-01-03     116.61     118.01   116.445      117.83   \n2      ROK  2014-01-06     118.20     118.74   116.120      116.52   \n3      ROK  2014-01-07     117.57     117.57   115.780      117.04   \n4      ROK  2014-01-08     117.28     117.28   115.710      116.47   \n\n   StockAdjClose  StockVol  StockAdjClose1  StockAdjClose2  StockVol1  \\\n0        101.888    479100             NaN             NaN        NaN   \n1        103.158    606600         101.888             NaN   479100.0   \n2        102.011    662300         103.158         101.888   606600.0   \n3        102.466    556200         102.011         103.158   662300.0   \n4        101.967    785500         102.466         102.011   556200.0   \n\n   StockVol2  \n0        NaN  \n1        NaN  \n2   479100.0  \n3   606600.0  \n4   662300.0  ",
                        "text/html": "<div>\n<style scoped>\n    .dataframe tbody tr th:only-of-type {\n        vertical-align: middle;\n    }\n\n    .dataframe tbody tr th {\n        vertical-align: top;\n    }\n\n    .dataframe thead th {\n        text-align: right;\n    }\n</style>\n<table border=\"1\" class=\"dataframe\">\n  <thead>\n    <tr style=\"text-align: right;\">\n      <th></th>\n      <th>StockSym</th>\n      <th>StockDt</th>\n      <th>StockOpen</th>\n      <th>StockHigh</th>\n      <th>StockLow</th>\n      <th>StockClose</th>\n      <th>StockAdjClose</th>\n      <th>StockVol</th>\n      <th>StockAdjClose1</th>\n      <th>StockAdjClose2</th>\n      <th>StockVol1</th>\n      <th>StockVol2</th>\n    </tr>\n  </thead>\n  <tbody>\n    <tr>\n      <th>0</th>\n      <td>ROK</td>\n      <td>2014-01-02</td>\n      <td>117.62</td>\n      <td>117.99</td>\n      <td>116.011</td>\n      <td>116.38</td>\n      <td>101.888</td>\n      <td>479100</td>\n      <td>NaN</td>\n      <td>NaN</td>\n      <td>NaN</td>\n      <td>NaN</td>\n    </tr>\n    <tr>\n      <th>1</th>\n      <td>ROK</td>\n      <td>2014-01-03</td>\n      <td>116.61</td>\n      <td>118.01</td>\n      <td>116.445</td>\n      <td>117.83</td>\n      <td>103.158</td>\n      <td>606600</td>\n      <td>101.888</td>\n      <td>NaN</td>\n      <td>479100.0</td>\n      <td>NaN</td>\n    </tr>\n    <tr>\n      <th>2</th>\n      <td>ROK</td>\n      <td>2014-01-06</td>\n      <td>118.20</td>\n      <td>118.74</td>\n      <td>116.120</td>\n      <td>116.52</td>\n      <td>102.011</td>\n      <td>662300</td>\n      <td>103.158</td>\n      <td>101.888</td>\n      <td>606600.0</td>\n      <td>479100.0</td>\n    </tr>\n    <tr>\n      <th>3</th>\n      <td>ROK</td>\n      <td>2014-01-07</td>\n      <td>117.57</td>\n      <td>117.57</td>\n      <td>115.780</td>\n      <td>117.04</td>\n      <td>102.466</td>\n      <td>556200</td>\n      <td>102.011</td>\n      <td>103.158</td>\n      <td>662300.0</td>\n      <td>606600.0</td>\n    </tr>\n    <tr>\n      <th>4</th>\n      <td>ROK</td>\n      <td>2014-01-08</td>\n      <td>117.28</td>\n      <td>117.28</td>\n      <td>115.710</td>\n      <td>116.47</td>\n      <td>101.967</td>\n      <td>785500</td>\n      <td>102.466</td>\n      <td>102.011</td>\n      <td>556200.0</td>\n      <td>662300.0</td>\n    </tr>\n  </tbody>\n</table>\n</div>"
                    },
                    "metadata": {},
                    "execution_count": 213,
                    "output_type": "execute_result"
                }
            ],
            "execution_count": 213
        },
        {
            "cell_type": "code",
            "source": [
                "df.tail(1)"
            ],
            "metadata": {
                "azdata_cell_guid": "4e008938-4a33-4777-9b9d-b537ce4255f0"
            },
            "outputs": [
                {
                    "data": {
                        "text/plain": "     StockSym     StockDt  StockOpen  StockHigh  StockLow  StockClose  \\\n1492      ROK  2019-12-05     196.02     196.65    195.32      196.43   \n\n      StockAdjClose  StockVol  StockAdjClose1  StockAdjClose2   StockVol1  \\\n1492         196.43    543592          149.93           72.44  16055655.0   \n\n      StockVol2  \n1492  3500595.0  ",
                        "text/html": "<div>\n<style scoped>\n    .dataframe tbody tr th:only-of-type {\n        vertical-align: middle;\n    }\n\n    .dataframe tbody tr th {\n        vertical-align: top;\n    }\n\n    .dataframe thead th {\n        text-align: right;\n    }\n</style>\n<table border=\"1\" class=\"dataframe\">\n  <thead>\n    <tr style=\"text-align: right;\">\n      <th></th>\n      <th>StockSym</th>\n      <th>StockDt</th>\n      <th>StockOpen</th>\n      <th>StockHigh</th>\n      <th>StockLow</th>\n      <th>StockClose</th>\n      <th>StockAdjClose</th>\n      <th>StockVol</th>\n      <th>StockAdjClose1</th>\n      <th>StockAdjClose2</th>\n      <th>StockVol1</th>\n      <th>StockVol2</th>\n    </tr>\n  </thead>\n  <tbody>\n    <tr>\n      <th>1492</th>\n      <td>ROK</td>\n      <td>2019-12-05</td>\n      <td>196.02</td>\n      <td>196.65</td>\n      <td>195.32</td>\n      <td>196.43</td>\n      <td>196.43</td>\n      <td>543592</td>\n      <td>149.93</td>\n      <td>72.44</td>\n      <td>16055655.0</td>\n      <td>3500595.0</td>\n    </tr>\n  </tbody>\n</table>\n</div>"
                    },
                    "metadata": {},
                    "execution_count": 214,
                    "output_type": "execute_result"
                }
            ],
            "execution_count": 214
        },
        {
            "cell_type": "code",
            "source": [
                "df = df.drop(['StockSym'],axis=1)\n",
                "df = df.drop(['StockDt'],axis=1)"
            ],
            "metadata": {
                "azdata_cell_guid": "9a9f02de-2244-438f-aad2-bfffb84723fb"
            },
            "outputs": [],
            "execution_count": 215
        },
        {
            "cell_type": "code",
            "source": [
                "print(df.head())"
            ],
            "metadata": {
                "azdata_cell_guid": "e1807b0b-1d4c-4099-a373-5febb5903951"
            },
            "outputs": [
                {
                    "name": "stdout",
                    "text": "   StockOpen  StockHigh  StockLow  StockClose  StockAdjClose  StockVol  \\\n0     117.62     117.99   116.011      116.38        101.888    479100   \n1     116.61     118.01   116.445      117.83        103.158    606600   \n2     118.20     118.74   116.120      116.52        102.011    662300   \n3     117.57     117.57   115.780      117.04        102.466    556200   \n4     117.28     117.28   115.710      116.47        101.967    785500   \n\n   StockAdjClose1  StockAdjClose2  StockVol1  StockVol2  \n0             NaN             NaN        NaN        NaN  \n1         101.888             NaN   479100.0        NaN  \n2         103.158         101.888   606600.0   479100.0  \n3         102.011         103.158   662300.0   606600.0  \n4         102.466         102.011   556200.0   662300.0  \n",
                    "output_type": "stream"
                }
            ],
            "execution_count": 216
        },
        {
            "cell_type": "code",
            "source": [
                "days_infuture_to_predict = 1\n",
                "\n",
                "df['prediction'] = df[['StockAdjClose']].shift(-days_infuture_to_predict)\n",
                "\n",
                "#df['volume_lag2'] = df[['volume_lag1']].shift(-days_infuture_to_predict)\n",
                "#df['volume_lag3'] = df[['volume_lag2']].shift(-days_infuture_to_predict)\n",
                "#df['close_lag1'] = df[['Close']].shift(-days_infuture_to_predict)\n",
                "#df['volume_lag1'] = df[['Volume']].shift(-days_infuture_to_predict)"
            ],
            "metadata": {
                "azdata_cell_guid": "4a9c203c-c400-488e-9651-a8f864adb8c8"
            },
            "outputs": [],
            "execution_count": 217
        },
        {
            "cell_type": "code",
            "source": [
                "df.head()"
            ],
            "metadata": {
                "azdata_cell_guid": "4253cd94-ea3d-4133-b317-709392b31cec"
            },
            "outputs": [
                {
                    "data": {
                        "text/plain": "   StockOpen  StockHigh  StockLow  StockClose  StockAdjClose  StockVol  \\\n0     117.62     117.99   116.011      116.38        101.888    479100   \n1     116.61     118.01   116.445      117.83        103.158    606600   \n2     118.20     118.74   116.120      116.52        102.011    662300   \n3     117.57     117.57   115.780      117.04        102.466    556200   \n4     117.28     117.28   115.710      116.47        101.967    785500   \n\n   StockAdjClose1  StockAdjClose2  StockVol1  StockVol2  prediction  \n0             NaN             NaN        NaN        NaN     103.158  \n1         101.888             NaN   479100.0        NaN     102.011  \n2         103.158         101.888   606600.0   479100.0     102.466  \n3         102.011         103.158   662300.0   606600.0     101.967  \n4         102.466         102.011   556200.0   662300.0     101.932  ",
                        "text/html": "<div>\n<style scoped>\n    .dataframe tbody tr th:only-of-type {\n        vertical-align: middle;\n    }\n\n    .dataframe tbody tr th {\n        vertical-align: top;\n    }\n\n    .dataframe thead th {\n        text-align: right;\n    }\n</style>\n<table border=\"1\" class=\"dataframe\">\n  <thead>\n    <tr style=\"text-align: right;\">\n      <th></th>\n      <th>StockOpen</th>\n      <th>StockHigh</th>\n      <th>StockLow</th>\n      <th>StockClose</th>\n      <th>StockAdjClose</th>\n      <th>StockVol</th>\n      <th>StockAdjClose1</th>\n      <th>StockAdjClose2</th>\n      <th>StockVol1</th>\n      <th>StockVol2</th>\n      <th>prediction</th>\n    </tr>\n  </thead>\n  <tbody>\n    <tr>\n      <th>0</th>\n      <td>117.62</td>\n      <td>117.99</td>\n      <td>116.011</td>\n      <td>116.38</td>\n      <td>101.888</td>\n      <td>479100</td>\n      <td>NaN</td>\n      <td>NaN</td>\n      <td>NaN</td>\n      <td>NaN</td>\n      <td>103.158</td>\n    </tr>\n    <tr>\n      <th>1</th>\n      <td>116.61</td>\n      <td>118.01</td>\n      <td>116.445</td>\n      <td>117.83</td>\n      <td>103.158</td>\n      <td>606600</td>\n      <td>101.888</td>\n      <td>NaN</td>\n      <td>479100.0</td>\n      <td>NaN</td>\n      <td>102.011</td>\n    </tr>\n    <tr>\n      <th>2</th>\n      <td>118.20</td>\n      <td>118.74</td>\n      <td>116.120</td>\n      <td>116.52</td>\n      <td>102.011</td>\n      <td>662300</td>\n      <td>103.158</td>\n      <td>101.888</td>\n      <td>606600.0</td>\n      <td>479100.0</td>\n      <td>102.466</td>\n    </tr>\n    <tr>\n      <th>3</th>\n      <td>117.57</td>\n      <td>117.57</td>\n      <td>115.780</td>\n      <td>117.04</td>\n      <td>102.466</td>\n      <td>556200</td>\n      <td>102.011</td>\n      <td>103.158</td>\n      <td>662300.0</td>\n      <td>606600.0</td>\n      <td>101.967</td>\n    </tr>\n    <tr>\n      <th>4</th>\n      <td>117.28</td>\n      <td>117.28</td>\n      <td>115.710</td>\n      <td>116.47</td>\n      <td>101.967</td>\n      <td>785500</td>\n      <td>102.466</td>\n      <td>102.011</td>\n      <td>556200.0</td>\n      <td>662300.0</td>\n      <td>101.932</td>\n    </tr>\n  </tbody>\n</table>\n</div>"
                    },
                    "metadata": {},
                    "execution_count": 218,
                    "output_type": "execute_result"
                }
            ],
            "execution_count": 218
        },
        {
            "cell_type": "code",
            "source": [
                "df.tail(days_infuture_to_predict + 1)"
            ],
            "metadata": {
                "azdata_cell_guid": "10dc3625-d414-43f7-8b75-57d9a6b8a12e"
            },
            "outputs": [
                {
                    "data": {
                        "text/plain": "      StockOpen  StockHigh  StockLow  StockClose  StockAdjClose  StockVol  \\\n1491     194.62     197.56    194.56      195.01         195.01    911537   \n1492     196.02     196.65    195.32      196.43         196.43    543592   \n\n      StockAdjClose1  StockAdjClose2   StockVol1   StockVol2  prediction  \n1491          194.04          149.31    981834.0  25192145.0      196.43  \n1492          149.93           72.44  16055655.0   3500595.0         NaN  ",
                        "text/html": "<div>\n<style scoped>\n    .dataframe tbody tr th:only-of-type {\n        vertical-align: middle;\n    }\n\n    .dataframe tbody tr th {\n        vertical-align: top;\n    }\n\n    .dataframe thead th {\n        text-align: right;\n    }\n</style>\n<table border=\"1\" class=\"dataframe\">\n  <thead>\n    <tr style=\"text-align: right;\">\n      <th></th>\n      <th>StockOpen</th>\n      <th>StockHigh</th>\n      <th>StockLow</th>\n      <th>StockClose</th>\n      <th>StockAdjClose</th>\n      <th>StockVol</th>\n      <th>StockAdjClose1</th>\n      <th>StockAdjClose2</th>\n      <th>StockVol1</th>\n      <th>StockVol2</th>\n      <th>prediction</th>\n    </tr>\n  </thead>\n  <tbody>\n    <tr>\n      <th>1491</th>\n      <td>194.62</td>\n      <td>197.56</td>\n      <td>194.56</td>\n      <td>195.01</td>\n      <td>195.01</td>\n      <td>911537</td>\n      <td>194.04</td>\n      <td>149.31</td>\n      <td>981834.0</td>\n      <td>25192145.0</td>\n      <td>196.43</td>\n    </tr>\n    <tr>\n      <th>1492</th>\n      <td>196.02</td>\n      <td>196.65</td>\n      <td>195.32</td>\n      <td>196.43</td>\n      <td>196.43</td>\n      <td>543592</td>\n      <td>149.93</td>\n      <td>72.44</td>\n      <td>16055655.0</td>\n      <td>3500595.0</td>\n      <td>NaN</td>\n    </tr>\n  </tbody>\n</table>\n</div>"
                    },
                    "metadata": {},
                    "execution_count": 219,
                    "output_type": "execute_result"
                }
            ],
            "execution_count": 219
        },
        {
            "cell_type": "code",
            "source": [
                "df.describe()"
            ],
            "metadata": {
                "azdata_cell_guid": "84703e60-614c-4f47-ad6a-d7f3f9505897"
            },
            "outputs": [
                {
                    "data": {
                        "text/plain": "         StockOpen    StockHigh     StockLow   StockClose  StockAdjClose  \\\ncount  1493.000000  1493.000000  1493.000000  1493.000000    1493.000000   \nmean    142.485831   143.799259   141.135980   142.477723     134.244558   \nstd      30.374386    30.622641    30.069957    30.288680      32.685998   \nmin      89.470000    90.750000    87.525000    89.710000      82.093000   \n25%     115.410000   116.395000   114.460000   115.550000     104.295000   \n50%     136.080000   136.850000   135.210000   136.210000     127.936000   \n75%     169.110000   170.750000   167.130000   169.120000     164.682000   \nmax     210.660000   210.720000   205.710000   207.920000     200.270000   \n\n           StockVol  StockAdjClose1  StockAdjClose2     StockVol1  \\\ncount  1.493000e+03     1492.000000     1491.000000  1.492000e+03   \nmean   9.479438e+05      108.155062       84.276425  8.687056e+05   \nstd    4.749733e+05       52.593112       54.226792  1.024286e+06   \nmin    1.838380e+05        0.400000        0.160000  3.000000e+02   \n25%    6.458390e+05       96.508750       16.260000  5.335748e+05   \n50%    8.546330e+05      107.645000      101.113000  7.770495e+05   \n75%    1.126886e+06      151.000500      110.933500  1.074965e+06   \nmax    6.596561e+06      198.750000      191.386000  2.519214e+07   \n\n          StockVol2   prediction  \ncount  1.491000e+03  1492.000000  \nmean   2.547801e+06   134.266245  \nstd    9.083505e+06    32.686211  \nmin    3.000000e+02    82.093000  \n25%    4.957245e+05   104.321250  \n50%    7.647130e+05   127.941000  \n75%    1.151219e+06   164.693500  \nmax    1.839965e+08   200.270000  ",
                        "text/html": "<div>\n<style scoped>\n    .dataframe tbody tr th:only-of-type {\n        vertical-align: middle;\n    }\n\n    .dataframe tbody tr th {\n        vertical-align: top;\n    }\n\n    .dataframe thead th {\n        text-align: right;\n    }\n</style>\n<table border=\"1\" class=\"dataframe\">\n  <thead>\n    <tr style=\"text-align: right;\">\n      <th></th>\n      <th>StockOpen</th>\n      <th>StockHigh</th>\n      <th>StockLow</th>\n      <th>StockClose</th>\n      <th>StockAdjClose</th>\n      <th>StockVol</th>\n      <th>StockAdjClose1</th>\n      <th>StockAdjClose2</th>\n      <th>StockVol1</th>\n      <th>StockVol2</th>\n      <th>prediction</th>\n    </tr>\n  </thead>\n  <tbody>\n    <tr>\n      <th>count</th>\n      <td>1493.000000</td>\n      <td>1493.000000</td>\n      <td>1493.000000</td>\n      <td>1493.000000</td>\n      <td>1493.000000</td>\n      <td>1.493000e+03</td>\n      <td>1492.000000</td>\n      <td>1491.000000</td>\n      <td>1.492000e+03</td>\n      <td>1.491000e+03</td>\n      <td>1492.000000</td>\n    </tr>\n    <tr>\n      <th>mean</th>\n      <td>142.485831</td>\n      <td>143.799259</td>\n      <td>141.135980</td>\n      <td>142.477723</td>\n      <td>134.244558</td>\n      <td>9.479438e+05</td>\n      <td>108.155062</td>\n      <td>84.276425</td>\n      <td>8.687056e+05</td>\n      <td>2.547801e+06</td>\n      <td>134.266245</td>\n    </tr>\n    <tr>\n      <th>std</th>\n      <td>30.374386</td>\n      <td>30.622641</td>\n      <td>30.069957</td>\n      <td>30.288680</td>\n      <td>32.685998</td>\n      <td>4.749733e+05</td>\n      <td>52.593112</td>\n      <td>54.226792</td>\n      <td>1.024286e+06</td>\n      <td>9.083505e+06</td>\n      <td>32.686211</td>\n    </tr>\n    <tr>\n      <th>min</th>\n      <td>89.470000</td>\n      <td>90.750000</td>\n      <td>87.525000</td>\n      <td>89.710000</td>\n      <td>82.093000</td>\n      <td>1.838380e+05</td>\n      <td>0.400000</td>\n      <td>0.160000</td>\n      <td>3.000000e+02</td>\n      <td>3.000000e+02</td>\n      <td>82.093000</td>\n    </tr>\n    <tr>\n      <th>25%</th>\n      <td>115.410000</td>\n      <td>116.395000</td>\n      <td>114.460000</td>\n      <td>115.550000</td>\n      <td>104.295000</td>\n      <td>6.458390e+05</td>\n      <td>96.508750</td>\n      <td>16.260000</td>\n      <td>5.335748e+05</td>\n      <td>4.957245e+05</td>\n      <td>104.321250</td>\n    </tr>\n    <tr>\n      <th>50%</th>\n      <td>136.080000</td>\n      <td>136.850000</td>\n      <td>135.210000</td>\n      <td>136.210000</td>\n      <td>127.936000</td>\n      <td>8.546330e+05</td>\n      <td>107.645000</td>\n      <td>101.113000</td>\n      <td>7.770495e+05</td>\n      <td>7.647130e+05</td>\n      <td>127.941000</td>\n    </tr>\n    <tr>\n      <th>75%</th>\n      <td>169.110000</td>\n      <td>170.750000</td>\n      <td>167.130000</td>\n      <td>169.120000</td>\n      <td>164.682000</td>\n      <td>1.126886e+06</td>\n      <td>151.000500</td>\n      <td>110.933500</td>\n      <td>1.074965e+06</td>\n      <td>1.151219e+06</td>\n      <td>164.693500</td>\n    </tr>\n    <tr>\n      <th>max</th>\n      <td>210.660000</td>\n      <td>210.720000</td>\n      <td>205.710000</td>\n      <td>207.920000</td>\n      <td>200.270000</td>\n      <td>6.596561e+06</td>\n      <td>198.750000</td>\n      <td>191.386000</td>\n      <td>2.519214e+07</td>\n      <td>1.839965e+08</td>\n      <td>200.270000</td>\n    </tr>\n  </tbody>\n</table>\n</div>"
                    },
                    "metadata": {},
                    "execution_count": 220,
                    "output_type": "execute_result"
                }
            ],
            "execution_count": 220
        },
        {
            "cell_type": "code",
            "source": [
                "df.dropna(inplace=True)"
            ],
            "metadata": {
                "azdata_cell_guid": "97d53d8f-6dba-429d-ba38-cb9c4c0335a3"
            },
            "outputs": [],
            "execution_count": 221
        },
        {
            "cell_type": "code",
            "source": [
                "plt.scatter(df['StockAdjClose'],df['prediction'])"
            ],
            "metadata": {
                "azdata_cell_guid": "ec180f31-f35f-4849-ab6b-c3c497adf9ae"
            },
            "outputs": [
                {
                    "data": {
                        "text/plain": "<matplotlib.collections.PathCollection at 0x1a876c721d0>"
                    },
                    "metadata": {},
                    "execution_count": 222,
                    "output_type": "execute_result"
                },
                {
                    "data": {
                        "text/plain": "<Figure size 432x288 with 1 Axes>",
                        "image/png": "[encoded data removed]"
                    },
                    "metadata": {
                        "needs_background": "light"
                    },
                    "output_type": "display_data"
                }
            ],
            "execution_count": 222
        },
        {
            "cell_type": "code",
            "source": [
                "plt.plot(df['StockAdjClose'],color='red')\n",
                "plt.plot(df['prediction'],color='green')"
            ],
            "metadata": {
                "azdata_cell_guid": "3eab481c-75bf-42a5-9a07-1386e352d05f"
            },
            "outputs": [
                {
                    "data": {
                        "text/plain": "[<matplotlib.lines.Line2D at 0x1a875306e48>]"
                    },
                    "metadata": {},
                    "execution_count": 223,
                    "output_type": "execute_result"
                },
                {
                    "data": {
                        "text/plain": "<Figure size 432x288 with 1 Axes>",
                        "image/png": "[encoded data removed]"
                    },
                    "metadata": {
                        "needs_background": "light"
                    },
                    "output_type": "display_data"
                }
            ],
            "execution_count": 223
        },
        {
            "cell_type": "code",
            "source": [
                "df.head()"
            ],
            "metadata": {
                "azdata_cell_guid": "d603cdb5-b736-4823-97b6-cfa8fa01a816"
            },
            "outputs": [
                {
                    "data": {
                        "text/plain": "   StockOpen  StockHigh  StockLow  StockClose  StockAdjClose  StockVol  \\\n2     118.20     118.74    116.12      116.52        102.011    662300   \n3     117.57     117.57    115.78      117.04        102.466    556200   \n4     117.28     117.28    115.71      116.47        101.967    785500   \n5     116.75     117.33    115.03      116.43        101.932    537700   \n6     116.82     117.30    115.96      116.96        102.396    503500   \n\n   StockAdjClose1  StockAdjClose2  StockVol1  StockVol2  prediction  \n2         103.158         101.888   606600.0   479100.0     102.466  \n3         102.011         103.158   662300.0   606600.0     101.967  \n4         102.466         102.011   556200.0   662300.0     101.932  \n5         101.967         102.466   785500.0   556200.0     102.396  \n6         101.932         101.967   537700.0   785500.0     100.741  ",
                        "text/html": "<div>\n<style scoped>\n    .dataframe tbody tr th:only-of-type {\n        vertical-align: middle;\n    }\n\n    .dataframe tbody tr th {\n        vertical-align: top;\n    }\n\n    .dataframe thead th {\n        text-align: right;\n    }\n</style>\n<table border=\"1\" class=\"dataframe\">\n  <thead>\n    <tr style=\"text-align: right;\">\n      <th></th>\n      <th>StockOpen</th>\n      <th>StockHigh</th>\n      <th>StockLow</th>\n      <th>StockClose</th>\n      <th>StockAdjClose</th>\n      <th>StockVol</th>\n      <th>StockAdjClose1</th>\n      <th>StockAdjClose2</th>\n      <th>StockVol1</th>\n      <th>StockVol2</th>\n      <th>prediction</th>\n    </tr>\n  </thead>\n  <tbody>\n    <tr>\n      <th>2</th>\n      <td>118.20</td>\n      <td>118.74</td>\n      <td>116.12</td>\n      <td>116.52</td>\n      <td>102.011</td>\n      <td>662300</td>\n      <td>103.158</td>\n      <td>101.888</td>\n      <td>606600.0</td>\n      <td>479100.0</td>\n      <td>102.466</td>\n    </tr>\n    <tr>\n      <th>3</th>\n      <td>117.57</td>\n      <td>117.57</td>\n      <td>115.78</td>\n      <td>117.04</td>\n      <td>102.466</td>\n      <td>556200</td>\n      <td>102.011</td>\n      <td>103.158</td>\n      <td>662300.0</td>\n      <td>606600.0</td>\n      <td>101.967</td>\n    </tr>\n    <tr>\n      <th>4</th>\n      <td>117.28</td>\n      <td>117.28</td>\n      <td>115.71</td>\n      <td>116.47</td>\n      <td>101.967</td>\n      <td>785500</td>\n      <td>102.466</td>\n      <td>102.011</td>\n      <td>556200.0</td>\n      <td>662300.0</td>\n      <td>101.932</td>\n    </tr>\n    <tr>\n      <th>5</th>\n      <td>116.75</td>\n      <td>117.33</td>\n      <td>115.03</td>\n      <td>116.43</td>\n      <td>101.932</td>\n      <td>537700</td>\n      <td>101.967</td>\n      <td>102.466</td>\n      <td>785500.0</td>\n      <td>556200.0</td>\n      <td>102.396</td>\n    </tr>\n    <tr>\n      <th>6</th>\n      <td>116.82</td>\n      <td>117.30</td>\n      <td>115.96</td>\n      <td>116.96</td>\n      <td>102.396</td>\n      <td>503500</td>\n      <td>101.932</td>\n      <td>101.967</td>\n      <td>537700.0</td>\n      <td>785500.0</td>\n      <td>100.741</td>\n    </tr>\n  </tbody>\n</table>\n</div>"
                    },
                    "metadata": {},
                    "execution_count": 224,
                    "output_type": "execute_result"
                }
            ],
            "execution_count": 224
        },
        {
            "cell_type": "code",
            "source": [
                "df.tail(1)"
            ],
            "metadata": {
                "azdata_cell_guid": "42ccc4ac-e8be-48d1-8f2b-9d09fb109759"
            },
            "outputs": [
                {
                    "data": {
                        "text/plain": "      StockOpen  StockHigh  StockLow  StockClose  StockAdjClose  StockVol  \\\n1491     194.62     197.56    194.56      195.01         195.01    911537   \n\n      StockAdjClose1  StockAdjClose2  StockVol1   StockVol2  prediction  \n1491          194.04          149.31   981834.0  25192145.0      196.43  ",
                        "text/html": "<div>\n<style scoped>\n    .dataframe tbody tr th:only-of-type {\n        vertical-align: middle;\n    }\n\n    .dataframe tbody tr th {\n        vertical-align: top;\n    }\n\n    .dataframe thead th {\n        text-align: right;\n    }\n</style>\n<table border=\"1\" class=\"dataframe\">\n  <thead>\n    <tr style=\"text-align: right;\">\n      <th></th>\n      <th>StockOpen</th>\n      <th>StockHigh</th>\n      <th>StockLow</th>\n      <th>StockClose</th>\n      <th>StockAdjClose</th>\n      <th>StockVol</th>\n      <th>StockAdjClose1</th>\n      <th>StockAdjClose2</th>\n      <th>StockVol1</th>\n      <th>StockVol2</th>\n      <th>prediction</th>\n    </tr>\n  </thead>\n  <tbody>\n    <tr>\n      <th>1491</th>\n      <td>194.62</td>\n      <td>197.56</td>\n      <td>194.56</td>\n      <td>195.01</td>\n      <td>195.01</td>\n      <td>911537</td>\n      <td>194.04</td>\n      <td>149.31</td>\n      <td>981834.0</td>\n      <td>25192145.0</td>\n      <td>196.43</td>\n    </tr>\n  </tbody>\n</table>\n</div>"
                    },
                    "metadata": {},
                    "execution_count": 225,
                    "output_type": "execute_result"
                }
            ],
            "execution_count": 225
        },
        {
            "cell_type": "code",
            "source": [
                "X = np.array(df.drop(['prediction'],1))"
            ],
            "metadata": {
                "azdata_cell_guid": "15b0543e-305a-4e77-a7e9-b72834486395"
            },
            "outputs": [],
            "execution_count": 226
        },
        {
            "cell_type": "code",
            "source": [
                "X"
            ],
            "metadata": {
                "scrolled": false,
                "azdata_cell_guid": "ec48effc-b465-4f62-a269-a87087540a8d"
            },
            "outputs": [
                {
                    "data": {
                        "text/plain": "array([[1.1820000e+02, 1.1874000e+02, 1.1612000e+02, ..., 1.0188800e+02,\n        6.0660000e+05, 4.7910000e+05],\n       [1.1757000e+02, 1.1757000e+02, 1.1578000e+02, ..., 1.0315800e+02,\n        6.6230000e+05, 6.0660000e+05],\n       [1.1728000e+02, 1.1728000e+02, 1.1571000e+02, ..., 1.0201100e+02,\n        5.5620000e+05, 6.6230000e+05],\n       ...,\n       [1.9668000e+02, 1.9862000e+02, 1.9377000e+02, ..., 6.8000000e-01,\n        3.3077500e+05, 9.2608000e+06],\n       [1.9114000e+02, 1.9483000e+02, 1.9021000e+02, ..., 7.0650000e+01,\n        2.5192145e+07, 2.6526880e+06],\n       [1.9462000e+02, 1.9756000e+02, 1.9456000e+02, ..., 1.4931000e+02,\n        9.8183400e+05, 2.5192145e+07]])"
                    },
                    "metadata": {},
                    "execution_count": 227,
                    "output_type": "execute_result"
                }
            ],
            "execution_count": 227
        },
        {
            "cell_type": "code",
            "source": [
                "len(X)"
            ],
            "metadata": {
                "azdata_cell_guid": "a090daaf-6bcb-4f45-9535-fbd91eebd0dd"
            },
            "outputs": [
                {
                    "data": {
                        "text/plain": "1490"
                    },
                    "metadata": {},
                    "execution_count": 228,
                    "output_type": "execute_result"
                }
            ],
            "execution_count": 228
        },
        {
            "cell_type": "code",
            "source": [
                "df.describe()"
            ],
            "metadata": {
                "azdata_cell_guid": "8f2b101c-4657-40a1-a57e-b5d264e412c1"
            },
            "outputs": [
                {
                    "data": {
                        "text/plain": "         StockOpen    StockHigh     StockLow   StockClose  StockAdjClose  \\\ncount  1490.000000  1490.000000  1490.000000  1490.000000    1490.000000   \nmean    142.483956   143.798418   141.133048   142.475570     134.245402   \nstd      30.359060    30.608259    30.053601    30.272631      32.658503   \nmin      89.470000    90.750000    87.525000    89.710000      82.093000   \n25%     115.395000   116.383750   114.437500   115.527500     104.343250   \n50%     136.205000   137.325000   135.305000   136.215000     127.941000   \n75%     169.110000   170.715000   167.125000   169.095000     164.645750   \nmax     210.660000   210.720000   205.710000   207.920000     200.270000   \n\n           StockVol  StockAdjClose1  StockAdjClose2     StockVol1  \\\ncount  1.490000e+03     1490.000000     1490.000000  1.490000e+03   \nmean   9.487589e+05      108.131232       84.284369  8.587745e+05   \nstd    4.750977e+05       52.617029       54.244130  9.462940e+05   \nmin    1.838380e+05        0.400000        0.160000  3.000000e+02   \n25%    6.467242e+05       96.502250       16.170000  5.337178e+05   \n50%    8.558120e+05      107.645000      101.141500  7.770495e+05   \n75%    1.127280e+06      151.009500      110.940750  1.074854e+06   \nmax    6.596561e+06      198.750000      191.386000  2.519214e+07   \n\n          StockVol2   prediction  \ncount  1.490000e+03  1490.000000  \nmean   2.547162e+06   134.308770  \nstd    9.086521e+06    32.687505  \nmin    3.000000e+02    82.093000  \n25%    4.955122e+05   104.385250  \n50%    7.641080e+05   128.030500  \n75%    1.150636e+06   164.716500  \nmax    1.839965e+08   200.270000  ",
                        "text/html": "<div>\n<style scoped>\n    .dataframe tbody tr th:only-of-type {\n        vertical-align: middle;\n    }\n\n    .dataframe tbody tr th {\n        vertical-align: top;\n    }\n\n    .dataframe thead th {\n        text-align: right;\n    }\n</style>\n<table border=\"1\" class=\"dataframe\">\n  <thead>\n    <tr style=\"text-align: right;\">\n      <th></th>\n      <th>StockOpen</th>\n      <th>StockHigh</th>\n      <th>StockLow</th>\n      <th>StockClose</th>\n      <th>StockAdjClose</th>\n      <th>StockVol</th>\n      <th>StockAdjClose1</th>\n      <th>StockAdjClose2</th>\n      <th>StockVol1</th>\n      <th>StockVol2</th>\n      <th>prediction</th>\n    </tr>\n  </thead>\n  <tbody>\n    <tr>\n      <th>count</th>\n      <td>1490.000000</td>\n      <td>1490.000000</td>\n      <td>1490.000000</td>\n      <td>1490.000000</td>\n      <td>1490.000000</td>\n      <td>1.490000e+03</td>\n      <td>1490.000000</td>\n      <td>1490.000000</td>\n      <td>1.490000e+03</td>\n      <td>1.490000e+03</td>\n      <td>1490.000000</td>\n    </tr>\n    <tr>\n      <th>mean</th>\n      <td>142.483956</td>\n      <td>143.798418</td>\n      <td>141.133048</td>\n      <td>142.475570</td>\n      <td>134.245402</td>\n      <td>9.487589e+05</td>\n      <td>108.131232</td>\n      <td>84.284369</td>\n      <td>8.587745e+05</td>\n      <td>2.547162e+06</td>\n      <td>134.308770</td>\n    </tr>\n    <tr>\n      <th>std</th>\n      <td>30.359060</td>\n      <td>30.608259</td>\n      <td>30.053601</td>\n      <td>30.272631</td>\n      <td>32.658503</td>\n      <td>4.750977e+05</td>\n      <td>52.617029</td>\n      <td>54.244130</td>\n      <td>9.462940e+05</td>\n      <td>9.086521e+06</td>\n      <td>32.687505</td>\n    </tr>\n    <tr>\n      <th>min</th>\n      <td>89.470000</td>\n      <td>90.750000</td>\n      <td>87.525000</td>\n      <td>89.710000</td>\n      <td>82.093000</td>\n      <td>1.838380e+05</td>\n      <td>0.400000</td>\n      <td>0.160000</td>\n      <td>3.000000e+02</td>\n      <td>3.000000e+02</td>\n      <td>82.093000</td>\n    </tr>\n    <tr>\n      <th>25%</th>\n      <td>115.395000</td>\n      <td>116.383750</td>\n      <td>114.437500</td>\n      <td>115.527500</td>\n      <td>104.343250</td>\n      <td>6.467242e+05</td>\n      <td>96.502250</td>\n      <td>16.170000</td>\n      <td>5.337178e+05</td>\n      <td>4.955122e+05</td>\n      <td>104.385250</td>\n    </tr>\n    <tr>\n      <th>50%</th>\n      <td>136.205000</td>\n      <td>137.325000</td>\n      <td>135.305000</td>\n      <td>136.215000</td>\n      <td>127.941000</td>\n      <td>8.558120e+05</td>\n      <td>107.645000</td>\n      <td>101.141500</td>\n      <td>7.770495e+05</td>\n      <td>7.641080e+05</td>\n      <td>128.030500</td>\n    </tr>\n    <tr>\n      <th>75%</th>\n      <td>169.110000</td>\n      <td>170.715000</td>\n      <td>167.125000</td>\n      <td>169.095000</td>\n      <td>164.645750</td>\n      <td>1.127280e+06</td>\n      <td>151.009500</td>\n      <td>110.940750</td>\n      <td>1.074854e+06</td>\n      <td>1.150636e+06</td>\n      <td>164.716500</td>\n    </tr>\n    <tr>\n      <th>max</th>\n      <td>210.660000</td>\n      <td>210.720000</td>\n      <td>205.710000</td>\n      <td>207.920000</td>\n      <td>200.270000</td>\n      <td>6.596561e+06</td>\n      <td>198.750000</td>\n      <td>191.386000</td>\n      <td>2.519214e+07</td>\n      <td>1.839965e+08</td>\n      <td>200.270000</td>\n    </tr>\n  </tbody>\n</table>\n</div>"
                    },
                    "metadata": {},
                    "execution_count": 229,
                    "output_type": "execute_result"
                }
            ],
            "execution_count": 229
        },
        {
            "cell_type": "code",
            "source": [
                "X = X[:-days_infuture_to_predict]"
            ],
            "metadata": {
                "azdata_cell_guid": "81cae674-45e2-41d7-bf41-695788fe629e"
            },
            "outputs": [],
            "execution_count": 230
        },
        {
            "cell_type": "code",
            "source": [
                "len(X)"
            ],
            "metadata": {
                "scrolled": true,
                "azdata_cell_guid": "9217f883-ab0f-4ab9-9fd3-845d76997419"
            },
            "outputs": [
                {
                    "data": {
                        "text/plain": "1489"
                    },
                    "metadata": {},
                    "execution_count": 231,
                    "output_type": "execute_result"
                }
            ],
            "execution_count": 231
        },
        {
            "cell_type": "code",
            "source": [
                "y = np.array(df['prediction'])"
            ],
            "metadata": {
                "azdata_cell_guid": "5087d490-3310-4395-9dc1-f2ba824a871f"
            },
            "outputs": [],
            "execution_count": 232
        },
        {
            "cell_type": "code",
            "source": [
                "len(y)"
            ],
            "metadata": {
                "azdata_cell_guid": "516e61ca-5f68-4292-87a6-41ca07a89e37"
            },
            "outputs": [
                {
                    "data": {
                        "text/plain": "1490"
                    },
                    "metadata": {},
                    "execution_count": 233,
                    "output_type": "execute_result"
                }
            ],
            "execution_count": 233
        },
        {
            "cell_type": "code",
            "source": [
                "y = y[:-days_infuture_to_predict]"
            ],
            "metadata": {
                "azdata_cell_guid": "f43e3473-ca43-4af4-8a9d-90f305ab8f88"
            },
            "outputs": [],
            "execution_count": 234
        },
        {
            "cell_type": "code",
            "source": [
                "len(y)"
            ],
            "metadata": {
                "azdata_cell_guid": "d69ad38e-04e6-46b2-81d4-b77ef62eb2d7"
            },
            "outputs": [
                {
                    "data": {
                        "text/plain": "1489"
                    },
                    "metadata": {},
                    "execution_count": 235,
                    "output_type": "execute_result"
                }
            ],
            "execution_count": 235
        },
        {
            "cell_type": "code",
            "source": [
                "y"
            ],
            "metadata": {
                "azdata_cell_guid": "a8c33667-c3ef-455c-be03-025dd4ba7d52"
            },
            "outputs": [
                {
                    "data": {
                        "text/plain": "array([102.466, 101.967, 101.932, ..., 193.97 , 194.04 , 195.01 ])"
                    },
                    "metadata": {},
                    "execution_count": 236,
                    "output_type": "execute_result"
                }
            ],
            "execution_count": 236
        },
        {
            "cell_type": "code",
            "source": [
                "#X = preprocessing.scale(X)\n",
                "#y = preprocessing.scale(y)\n",
                "xtrain,xtest,ytrain,ytest = model_selection.train_test_split(X,y,test_size=0.5,random_state=0)"
            ],
            "metadata": {
                "azdata_cell_guid": "e5475d86-2bdb-4ebb-8905-cabfea89177c"
            },
            "outputs": [],
            "execution_count": 237
        },
        {
            "cell_type": "code",
            "source": [
                "clf = DecisionTreeRegressor() \n",
                "#clf = LinearRegression() \n",
                "clf.fit(xtrain, ytrain)\n",
                "r = clf.score(xtest,ytest)\n",
                "#prediction = (clf.predict(X_prediction))"
            ],
            "metadata": {
                "azdata_cell_guid": "bdf78eff-895d-41e9-8cbe-b581f6512f0f"
            },
            "outputs": [],
            "execution_count": 238
        },
        {
            "cell_type": "code",
            "source": [
                "r"
            ],
            "metadata": {
                "azdata_cell_guid": "2a363b7a-0474-4b07-a9fb-68988783e712"
            },
            "outputs": [
                {
                    "data": {
                        "text/plain": "0.9923128755475883"
                    },
                    "metadata": {},
                    "execution_count": 239,
                    "output_type": "execute_result"
                }
            ],
            "execution_count": 239
        },
        {
            "cell_type": "code",
            "source": [
                "# Saving the model to a file using pickle module\r\n",
                "\r\n",
                "modelFileName = 'C:\\\\Dev\\\\dtrModelToPredictFutureStockPrice.sav'\r\n",
                "pickle.dump(clf, open(modelFileName, 'wb'))"
            ],
            "metadata": {
                "azdata_cell_guid": "510ed889-7d22-4ee2-8d3b-31ebb0dcfc68"
            },
            "outputs": [],
            "execution_count": 256
        },
        {
            "cell_type": "code",
            "source": [
                ""
            ],
            "metadata": {
                "azdata_cell_guid": "9de2973b-e326-4a92-9536-677311e6b384"
            },
            "outputs": [],
            "execution_count": 0
        },
        {
            "cell_type": "code",
            "source": [
                "ypred = clf.predict(xtest)\n",
                "dfAP=pd.DataFrame({'Actual':ytest, 'Predicted':ypred})\n",
                "dfAP"
            ],
            "metadata": {
                "azdata_cell_guid": "d498da79-6313-44db-8335-ef23eec97cfe"
            },
            "outputs": [
                {
                    "data": {
                        "text/plain": "      Actual  Predicted\n0    104.909    107.354\n1    114.145    111.063\n2    174.723    172.017\n3     95.599     95.903\n4    191.377    177.673\n..       ...        ...\n740  107.212    106.148\n741  106.554    102.626\n742  107.347    105.936\n743  106.980    109.052\n744   94.995     94.839\n\n[745 rows x 2 columns]",
                        "text/html": "<div>\n<style scoped>\n    .dataframe tbody tr th:only-of-type {\n        vertical-align: middle;\n    }\n\n    .dataframe tbody tr th {\n        vertical-align: top;\n    }\n\n    .dataframe thead th {\n        text-align: right;\n    }\n</style>\n<table border=\"1\" class=\"dataframe\">\n  <thead>\n    <tr style=\"text-align: right;\">\n      <th></th>\n      <th>Actual</th>\n      <th>Predicted</th>\n    </tr>\n  </thead>\n  <tbody>\n    <tr>\n      <th>0</th>\n      <td>104.909</td>\n      <td>107.354</td>\n    </tr>\n    <tr>\n      <th>1</th>\n      <td>114.145</td>\n      <td>111.063</td>\n    </tr>\n    <tr>\n      <th>2</th>\n      <td>174.723</td>\n      <td>172.017</td>\n    </tr>\n    <tr>\n      <th>3</th>\n      <td>95.599</td>\n      <td>95.903</td>\n    </tr>\n    <tr>\n      <th>4</th>\n      <td>191.377</td>\n      <td>177.673</td>\n    </tr>\n    <tr>\n      <th>...</th>\n      <td>...</td>\n      <td>...</td>\n    </tr>\n    <tr>\n      <th>740</th>\n      <td>107.212</td>\n      <td>106.148</td>\n    </tr>\n    <tr>\n      <th>741</th>\n      <td>106.554</td>\n      <td>102.626</td>\n    </tr>\n    <tr>\n      <th>742</th>\n      <td>107.347</td>\n      <td>105.936</td>\n    </tr>\n    <tr>\n      <th>743</th>\n      <td>106.980</td>\n      <td>109.052</td>\n    </tr>\n    <tr>\n      <th>744</th>\n      <td>94.995</td>\n      <td>94.839</td>\n    </tr>\n  </tbody>\n</table>\n<p>745 rows × 2 columns</p>\n</div>"
                    },
                    "metadata": {},
                    "execution_count": 240,
                    "output_type": "execute_result"
                }
            ],
            "execution_count": 240
        },
        {
            "cell_type": "code",
            "source": [
                "plt.plot(ytest,color=\"red\")\n",
                "plt.plot(ypred,color=\"green\")\n"
            ],
            "metadata": {
                "azdata_cell_guid": "89e7e88e-679a-4333-b577-5e135f9d8bcf"
            },
            "outputs": [
                {
                    "data": {
                        "text/plain": "[<matplotlib.lines.Line2D at 0x1a876723eb8>]"
                    },
                    "metadata": {},
                    "execution_count": 241,
                    "output_type": "execute_result"
                },
                {
                    "data": {
                        "text/plain": "<Figure size 432x288 with 1 Axes>",
                        "image/png": "[encoded data removed]"
                    },
                    "metadata": {
                        "needs_background": "light"
                    },
                    "output_type": "display_data"
                }
            ],
            "execution_count": 241
        },
        {
            "cell_type": "code",
            "source": [
                "plt.plot(xtrain,color=\"red\")\n",
                "plt.plot(xtest,color=\"green\")"
            ],
            "metadata": {
                "azdata_cell_guid": "706d5a73-cf5b-4350-901b-69f83d3a9e9f"
            },
            "outputs": [
                {
                    "data": {
                        "text/plain": "[<matplotlib.lines.Line2D at 0x1a8769c4a58>,\n <matplotlib.lines.Line2D at 0x1a876b1bd68>,\n <matplotlib.lines.Line2D at 0x1a876b1beb8>,\n <matplotlib.lines.Line2D at 0x1a876b2b048>,\n <matplotlib.lines.Line2D at 0x1a876b2b198>,\n <matplotlib.lines.Line2D at 0x1a876b2b2e8>,\n <matplotlib.lines.Line2D at 0x1a876b2b438>,\n <matplotlib.lines.Line2D at 0x1a876b2b588>,\n <matplotlib.lines.Line2D at 0x1a876b2b6d8>,\n <matplotlib.lines.Line2D at 0x1a876b2b828>]"
                    },
                    "metadata": {},
                    "execution_count": 242,
                    "output_type": "execute_result"
                },
                {
                    "data": {
                        "text/plain": "<Figure size 432x288 with 1 Axes>",
                        "image/png": "[encoded data removed]"
                    },
                    "metadata": {
                        "needs_background": "light"
                    },
                    "output_type": "display_data"
                }
            ],
            "execution_count": 242
        },
        {
            "cell_type": "code",
            "source": [
                "x_forecast = np.array(df.drop(['prediction'],1))[-days_infuture_to_predict:]"
            ],
            "metadata": {
                "azdata_cell_guid": "2ffd4e54-e515-48fa-abdd-94ab748dc8f9"
            },
            "outputs": [],
            "execution_count": 243
        },
        {
            "cell_type": "code",
            "source": [
                "len(x_forecast)"
            ],
            "metadata": {
                "azdata_cell_guid": "90e2d873-9973-434e-8e78-8c238f929abf"
            },
            "outputs": [
                {
                    "data": {
                        "text/plain": "1"
                    },
                    "metadata": {},
                    "execution_count": 244,
                    "output_type": "execute_result"
                }
            ],
            "execution_count": 244
        },
        {
            "cell_type": "code",
            "source": [
                "x_forecast"
            ],
            "metadata": {
                "azdata_cell_guid": "8c4b2aa5-b04b-438b-a2ad-3d98a17ff893"
            },
            "outputs": [
                {
                    "data": {
                        "text/plain": "array([[1.9462000e+02, 1.9756000e+02, 1.9456000e+02, 1.9501000e+02,\n        1.9501000e+02, 9.1153700e+05, 1.9404000e+02, 1.4931000e+02,\n        9.8183400e+05, 2.5192145e+07]])"
                    },
                    "metadata": {},
                    "execution_count": 245,
                    "output_type": "execute_result"
                }
            ],
            "execution_count": 245
        },
        {
            "cell_type": "code",
            "source": [
                "prediction = (clf.predict(x_forecast))"
            ],
            "metadata": {
                "azdata_cell_guid": "754bbb87-d310-4b1b-8e0f-b42a5af0ceb1"
            },
            "outputs": [],
            "execution_count": 246
        },
        {
            "cell_type": "code",
            "source": [
                "prediction"
            ],
            "metadata": {
                "azdata_cell_guid": "571407ac-e3da-4244-8dba-4644bfb4391c"
            },
            "outputs": [
                {
                    "data": {
                        "text/plain": "array([191.096])"
                    },
                    "metadata": {},
                    "execution_count": 247,
                    "output_type": "execute_result"
                }
            ],
            "execution_count": 247
        },
        {
            "cell_type": "code",
            "source": [
                "last = prediction[len(prediction) -1 ]"
            ],
            "metadata": {
                "azdata_cell_guid": "af2d20c2-8749-4f40-aa3d-c73ff682812b"
            },
            "outputs": [],
            "execution_count": 248
        },
        {
            "cell_type": "code",
            "source": [
                "last"
            ],
            "metadata": {
                "azdata_cell_guid": "a38a4a90-899b-4b58-b51e-ac8b574ed912"
            },
            "outputs": [
                {
                    "data": {
                        "text/plain": "191.096"
                    },
                    "metadata": {},
                    "execution_count": 249,
                    "output_type": "execute_result"
                }
            ],
            "execution_count": 249
        },
        {
            "cell_type": "code",
            "source": [
                "prediction[0]"
            ],
            "metadata": {
                "azdata_cell_guid": "da52cf63-86e9-41cd-81de-eb292f067341"
            },
            "outputs": [
                {
                    "data": {
                        "text/plain": "191.096"
                    },
                    "metadata": {},
                    "execution_count": 250,
                    "output_type": "execute_result"
                }
            ],
            "execution_count": 250
        },
        {
            "cell_type": "code",
            "source": [
                "predictModel = pickle.load(open(modelFileName, 'rb'))\r\n",
                "predict = predictModel.predict(x_forecast)\r\n",
                "print(predict)"
            ],
            "metadata": {
                "azdata_cell_guid": "2216df9a-99c2-4577-b3fe-441c361c257d"
            },
            "outputs": [
                {
                    "name": "stdout",
                    "text": "[191.096]\n",
                    "output_type": "stream"
                }
            ],
            "execution_count": 257
        }
    ]
}