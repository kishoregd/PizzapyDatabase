{
  "nbformat": 4,
  "nbformat_minor": 0,
  "metadata": {
    "colab": {
      "name": "Colab1.ipynb",
      "provenance": [],
      "collapsed_sections": [],
      "include_colab_link": true
    },
    "kernelspec": {
      "name": "python3",
      "display_name": "Python 3"
    }
  },
  "cells": [
    {
      "cell_type": "markdown",
      "metadata": {
        "id": "view-in-github",
        "colab_type": "text"
      },
      "source": [
        "<a href=\"https://colab.research.google.com/github/kishoregd/PizzapyDatabase/blob/master/Colab1.ipynb\" target=\"_parent\"><img src=\"https://colab.research.google.com/assets/colab-badge.svg\" alt=\"Open In Colab\"/></a>"
      ]
    },
    {
      "cell_type": "code",
      "metadata": {
        "id": "22c6ou0xiPeM",
        "colab_type": "code",
        "outputId": "d1c7b21b-ac9f-46ef-cef0-da4accf777bd",
        "colab": {
          "base_uri": "https://localhost:8080/",
          "height": 34
        }
      },
      "source": [
        "msg=\"Welcome to Google Colab\"\n",
        "print(msg)"
      ],
      "execution_count": 29,
      "outputs": [
        {
          "output_type": "stream",
          "text": [
            "Welcome to Google Colab\n"
          ],
          "name": "stdout"
        }
      ]
    },
    {
      "cell_type": "code",
      "metadata": {
        "id": "tgHpjhXNj0zK",
        "colab_type": "code",
        "colab": {}
      },
      "source": [
        "import pandas as pd     # for dataframe\n",
        "import numpy as np \n",
        "\n",
        "from sklearn import preprocessing\n",
        "from sklearn.linear_model import LinearRegression\n",
        "from sklearn.model_selection import KFold\n",
        "import matplotlib.pyplot as plt\n",
        "\n",
        "df = pd.read_csv(\"https://raw.githubusercontent.com/kishoregd/PizzapyDatabase/master/TSLA_2019.csv\")"
      ],
      "execution_count": 0,
      "outputs": []
    },
    {
      "cell_type": "code",
      "metadata": {
        "id": "uwfSjnDNlSPY",
        "colab_type": "code",
        "outputId": "0d6ff9c0-788d-4baf-9807-746eaff102f6",
        "colab": {
          "base_uri": "https://localhost:8080/",
          "height": 204
        }
      },
      "source": [
        "df.head()"
      ],
      "execution_count": 31,
      "outputs": [
        {
          "output_type": "execute_result",
          "data": {
            "text/html": [
              "<div>\n",
              "<style scoped>\n",
              "    .dataframe tbody tr th:only-of-type {\n",
              "        vertical-align: middle;\n",
              "    }\n",
              "\n",
              "    .dataframe tbody tr th {\n",
              "        vertical-align: top;\n",
              "    }\n",
              "\n",
              "    .dataframe thead th {\n",
              "        text-align: right;\n",
              "    }\n",
              "</style>\n",
              "<table border=\"1\" class=\"dataframe\">\n",
              "  <thead>\n",
              "    <tr style=\"text-align: right;\">\n",
              "      <th></th>\n",
              "      <th>StockDt</th>\n",
              "      <th>DayOfTheYear</th>\n",
              "      <th>StockAdjClose</th>\n",
              "    </tr>\n",
              "  </thead>\n",
              "  <tbody>\n",
              "    <tr>\n",
              "      <th>0</th>\n",
              "      <td>2019-05-13</td>\n",
              "      <td>133</td>\n",
              "      <td>227.01</td>\n",
              "    </tr>\n",
              "    <tr>\n",
              "      <th>1</th>\n",
              "      <td>2019-05-14</td>\n",
              "      <td>134</td>\n",
              "      <td>232.31</td>\n",
              "    </tr>\n",
              "    <tr>\n",
              "      <th>2</th>\n",
              "      <td>2019-05-15</td>\n",
              "      <td>135</td>\n",
              "      <td>231.95</td>\n",
              "    </tr>\n",
              "    <tr>\n",
              "      <th>3</th>\n",
              "      <td>2019-05-16</td>\n",
              "      <td>136</td>\n",
              "      <td>228.33</td>\n",
              "    </tr>\n",
              "    <tr>\n",
              "      <th>4</th>\n",
              "      <td>2019-05-17</td>\n",
              "      <td>137</td>\n",
              "      <td>211.03</td>\n",
              "    </tr>\n",
              "  </tbody>\n",
              "</table>\n",
              "</div>"
            ],
            "text/plain": [
              "      StockDt  DayOfTheYear  StockAdjClose\n",
              "0  2019-05-13           133         227.01\n",
              "1  2019-05-14           134         232.31\n",
              "2  2019-05-15           135         231.95\n",
              "3  2019-05-16           136         228.33\n",
              "4  2019-05-17           137         211.03"
            ]
          },
          "metadata": {
            "tags": []
          },
          "execution_count": 31
        }
      ]
    },
    {
      "cell_type": "code",
      "metadata": {
        "id": "DGePo711kpZd",
        "colab_type": "code",
        "outputId": "786f7599-4dd5-4957-b85e-39fb1cd85d50",
        "colab": {
          "base_uri": "https://localhost:8080/",
          "height": 604
        }
      },
      "source": [
        "df.hist()"
      ],
      "execution_count": 32,
      "outputs": [
        {
          "output_type": "execute_result",
          "data": {
            "text/plain": [
              "array([[<matplotlib.axes._subplots.AxesSubplot object at 0x7f8670cbb438>,\n",
              "        <matplotlib.axes._subplots.AxesSubplot object at 0x7f8670a10438>]],\n",
              "      dtype=object)"
            ]
          },
          "metadata": {
            "tags": []
          },
          "execution_count": 32
        },
        {
          "output_type": "display_data",
          "data": {
            "image/png": "[encoded data removed]",
            "text/plain": [
              "<Figure size 1152x648 with 2 Axes>"
            ]
          },
          "metadata": {
            "tags": []
          }
        }
      ]
    },
    {
      "cell_type": "code",
      "metadata": {
        "id": "mvqVyeGSks9V",
        "colab_type": "code",
        "colab": {}
      },
      "source": [
        "adj_prices_array = []\n",
        "dayoftheyear_array = []"
      ],
      "execution_count": 0,
      "outputs": []
    },
    {
      "cell_type": "code",
      "metadata": {
        "id": "EruZczxZYyXu",
        "colab_type": "code",
        "outputId": "02feed23-a22e-4aa6-a262-cd4e9dfb2c68",
        "colab": {
          "base_uri": "https://localhost:8080/",
          "height": 80
        }
      },
      "source": [
        "df.tail(1)"
      ],
      "execution_count": 34,
      "outputs": [
        {
          "output_type": "execute_result",
          "data": {
            "text/html": [
              "<div>\n",
              "<style scoped>\n",
              "    .dataframe tbody tr th:only-of-type {\n",
              "        vertical-align: middle;\n",
              "    }\n",
              "\n",
              "    .dataframe tbody tr th {\n",
              "        vertical-align: top;\n",
              "    }\n",
              "\n",
              "    .dataframe thead th {\n",
              "        text-align: right;\n",
              "    }\n",
              "</style>\n",
              "<table border=\"1\" class=\"dataframe\">\n",
              "  <thead>\n",
              "    <tr style=\"text-align: right;\">\n",
              "      <th></th>\n",
              "      <th>StockDt</th>\n",
              "      <th>DayOfTheYear</th>\n",
              "      <th>StockAdjClose</th>\n",
              "    </tr>\n",
              "  </thead>\n",
              "  <tbody>\n",
              "    <tr>\n",
              "      <th>230</th>\n",
              "      <td>2019-05-10</td>\n",
              "      <td>130</td>\n",
              "      <td>239.52</td>\n",
              "    </tr>\n",
              "  </tbody>\n",
              "</table>\n",
              "</div>"
            ],
            "text/plain": [
              "        StockDt  DayOfTheYear  StockAdjClose\n",
              "230  2019-05-10           130         239.52"
            ]
          },
          "metadata": {
            "tags": []
          },
          "execution_count": 34
        }
      ]
    },
    {
      "cell_type": "code",
      "metadata": {
        "id": "xPwSaeLLY_NX",
        "colab_type": "code",
        "outputId": "bf5dc009-b247-4c76-eb50-d09084812c04",
        "colab": {
          "base_uri": "https://localhost:8080/",
          "height": 34
        }
      },
      "source": [
        "#df = df.head(len(df)-1)\n",
        "print(df.shape)"
      ],
      "execution_count": 35,
      "outputs": [
        {
          "output_type": "stream",
          "text": [
            "(231, 3)\n"
          ],
          "name": "stdout"
        }
      ]
    },
    {
      "cell_type": "code",
      "metadata": {
        "id": "Tv-iq7IXZDOs",
        "colab_type": "code",
        "colab": {}
      },
      "source": [
        "df_adjclose     = df.loc[:,'StockAdjClose']\n",
        "df_dayoftheyear = df.loc[:,'DayOfTheYear']"
      ],
      "execution_count": 0,
      "outputs": []
    },
    {
      "cell_type": "code",
      "metadata": {
        "id": "diQnIwqfZEuj",
        "colab_type": "code",
        "colab": {}
      },
      "source": [
        "# Values for X axis (Independent variable)\n",
        "# Day Of The Year (number)\n",
        "\n",
        "for dty in df_dayoftheyear:\n",
        "  dayoftheyear_array.append(dty)\n",
        "\n",
        "# Values fof the Y axis (Dependendent Variable) \n",
        "# Adjusted Price\n",
        "\n",
        "for adj_close in df_dayoftheyear:\n",
        "  adj_prices_array.append(float(adj_close))"
      ],
      "execution_count": 0,
      "outputs": []
    },
    {
      "cell_type": "code",
      "metadata": {
        "id": "vxiKDBnZZKDA",
        "colab_type": "code",
        "outputId": "34f1ee60-98cb-4672-a086-723070937318",
        "colab": {
          "base_uri": "https://localhost:8080/",
          "height": 54
        }
      },
      "source": [
        "print(dayoftheyear_array)"
      ],
      "execution_count": 38,
      "outputs": [
        {
          "output_type": "stream",
          "text": [
            "[133, 134, 135, 136, 137, 140, 141, 142, 143, 144, 148, 149, 150, 151, 154, 155, 156, 157, 158, 161, 162, 163, 164, 165, 168, 169, 170, 171, 172, 175, 176, 177, 178, 179, 182, 183, 184, 186, 189, 190, 191, 192, 193, 196, 197, 198, 199, 200, 203, 204, 205, 206, 207, 210, 211, 212, 213, 214, 217, 218, 219, 220, 221, 224, 225, 226, 227, 228, 231, 232, 233, 234, 235, 238, 239, 240, 241, 242, 246, 247, 248, 249, 252, 253, 254, 255, 256, 259, 260, 261, 262, 263, 266, 267, 268, 269, 270, 273, 274, 275, 276, 277, 280, 281, 282, 283, 284, 287, 288, 289, 290, 291, 294, 295, 296, 297, 298, 301, 302, 303, 304, 305, 308, 309, 310, 311, 312, 315, 316, 317, 318, 319, 322, 323, 324, 325, 326, 329, 330, 331, 333, 2, 3, 4, 7, 8, 9, 10, 11, 14, 15, 16, 17, 18, 22, 23, 24, 25, 28, 29, 30, 31, 32, 35, 36, 37, 38, 39, 42, 43, 44, 45, 46, 50, 51, 52, 53, 56, 57, 58, 59, 60, 63, 64, 65, 66, 67, 70, 71, 72, 73, 74, 77, 78, 79, 80, 81, 84, 85, 86, 87, 88, 91, 92, 93, 94, 95, 98, 99, 100, 101, 102, 105, 106, 107, 108, 112, 113, 114, 115, 116, 119, 120, 121, 122, 123, 126, 127, 128, 129, 130]\n"
          ],
          "name": "stdout"
        }
      ]
    },
    {
      "cell_type": "code",
      "metadata": {
        "id": "k3UFHLz6ZLZE",
        "colab_type": "code",
        "colab": {}
      },
      "source": [
        "indVar = pd.DataFrame(df['DayOfTheYear'])  # This is the independent variable\n",
        "depVar = pd.DataFrame(df['StockAdjClose']) # This is the dependent variable"
      ],
      "execution_count": 0,
      "outputs": []
    },
    {
      "cell_type": "code",
      "metadata": {
        "id": "kJwc_BtTZREy",
        "colab_type": "code",
        "outputId": "1ad765b3-9fd8-47dc-ee27-a76bf3eb9f6e",
        "colab": {
          "base_uri": "https://localhost:8080/",
          "height": 34
        }
      },
      "source": [
        "lrModel = LinearRegression()                    # From sklearn\n",
        "\n",
        "rValues  = []                                    # r-squared values\n",
        "\n",
        "cvVar   = KFold(n_splits=2, shuffle=True)      # Cross Validation Variable\n",
        "\n",
        "for i, (trainData, testData) in enumerate(cvVar.split(indVar, depVar)):\n",
        "\n",
        "    lrModel.fit(indVar.iloc[trainData,:],depVar.iloc[trainData,:])\n",
        "\n",
        "    score = lrModel.score(indVar.iloc[testData,:], depVar.iloc[testData,:])\n",
        "\n",
        "    rValues.append(score)\n",
        "\n",
        "print(rValues)"
      ],
      "execution_count": 40,
      "outputs": [
        {
          "output_type": "stream",
          "text": [
            "[0.0039099258205916865, -0.016662035881913617]\n"
          ],
          "name": "stdout"
        }
      ]
    },
    {
      "cell_type": "code",
      "metadata": {
        "id": "RddAkIm2ZVt8",
        "colab_type": "code",
        "outputId": "550b8c0a-fcce-46e2-a959-21a4e2bb3584",
        "colab": {
          "base_uri": "https://localhost:8080/",
          "height": 584
        }
      },
      "source": [
        "plt.scatter(df['DayOfTheYear'], df['StockAdjClose'], color = 'blue', label='Data')\n",
        "\n",
        "type(adj_prices_array)\n",
        "temp = np.asarray(dayoftheyear_array)\n",
        "\n",
        "plt.plot(dayoftheyear_array, lrModel.predict(temp.reshape(-1,1)), color = 'red', label='Predict')\n",
        "\n",
        "#plt.plot(df['DayOfTheYear'], df['StockAdjClose'],color = 'green', label='Linear')\n",
        "\n",
        "z = np.polyfit(df['DayOfTheYear'], df['StockAdjClose'], 1)\n",
        "p = np.poly1d(z)\n",
        "\n",
        "#plt.plot(df['DayOfTheYear'],temp,\"r--\",color = 'green')\n",
        "\n",
        "plt.rcParams[\"figure.figsize\"] = [16,9]\n",
        "plt.title('Predict Stock Price Example')\n",
        "plt.xlabel('Date Number Of The Year')\n",
        "plt.ylabel('Adjusted Price')\n",
        "plt.legend()"
      ],
      "execution_count": 41,
      "outputs": [
        {
          "output_type": "execute_result",
          "data": {
            "text/plain": [
              "<matplotlib.legend.Legend at 0x7f86708fd048>"
            ]
          },
          "metadata": {
            "tags": []
          },
          "execution_count": 41
        },
        {
          "output_type": "display_data",
          "data": {
            "image/png": "[encoded data removed]",
            "text/plain": [
              "<Figure size 1152x648 with 1 Axes>"
            ]
          },
          "metadata": {
            "tags": []
          }
        }
      ]
    },
    {
      "cell_type": "code",
      "metadata": {
        "id": "COzvLaIwaaHX",
        "colab_type": "code",
        "outputId": "b3083703-8aa0-4890-c88c-73ec9afc6d94",
        "colab": {
          "base_uri": "https://localhost:8080/",
          "height": 1000
        }
      },
      "source": [
        "import datetime\n",
        "predictfor = []\n",
        "dates =[]\n",
        "\n",
        "np.amax(temp)\n",
        "\n",
        "for i in range(np.amax(temp) + 1, 366):\n",
        "  predictfor.append(i)\n",
        "  dates.append(datetime.datetime(2019, 1, 1) + datetime.timedelta(i - 1))\n",
        "\n",
        "#print(predictfor)\n",
        "\n",
        "temp2 = np.asarray(predictfor)\n",
        "\n",
        "predicted_adj_prices = lrModel.predict(temp2.reshape(-1,1))\n",
        "#print(predicted_adj_prices)\n",
        "\n",
        "#print(type(predicted_adj_prices))\n",
        "temp3 = np.asarray(predicted_adj_prices)\n",
        "\n",
        "#print(type(temp2))\n",
        "#type(temp3)\n",
        "\n",
        "#print(temp2)\n",
        "#print(temp3.reshape(1,-1))\n",
        "\n",
        "dfPredict = pd.DataFrame({'Day Of The Year': temp2})\n",
        "dfPredict['Date'] = dates\n",
        "dfPredict['Predicted Adj Price'] = temp3\n",
        "\n",
        "print(dfPredict)\n",
        "\n",
        "plt.scatter(df['DayOfTheYear'], df['StockAdjClose'], color = 'gray', label='History Data')\n",
        "plt.plot(dayoftheyear_array, lrModel.predict(temp.reshape(-1,1)), color = 'green', label='Trend')\n",
        "plt.plot(dfPredict['Day Of The Year'], dfPredict['Predicted Adj Price'],color = 'red')\n",
        "\n",
        "plt.title('Predict Stock Price Example')\n",
        "plt.xlabel('Date Number Of The Year')\n",
        "plt.ylabel('Adjusted Price')\n",
        "plt.legend()\n",
        "\n",
        "plt.rcParams[\"figure.figsize\"] = [16,9]"
      ],
      "execution_count": 42,
      "outputs": [
        {
          "output_type": "stream",
          "text": [
            "    Day Of The Year       Date  Predicted Adj Price\n",
            "0               334 2019-11-30           253.729272\n",
            "1               335 2019-12-01           253.644517\n",
            "2               336 2019-12-02           253.559763\n",
            "3               337 2019-12-03           253.475008\n",
            "4               338 2019-12-04           253.390253\n",
            "5               339 2019-12-05           253.305499\n",
            "6               340 2019-12-06           253.220744\n",
            "7               341 2019-12-07           253.135990\n",
            "8               342 2019-12-08           253.051235\n",
            "9               343 2019-12-09           252.966481\n",
            "10              344 2019-12-10           252.881726\n",
            "11              345 2019-12-11           252.796972\n",
            "12              346 2019-12-12           252.712217\n",
            "13              347 2019-12-13           252.627463\n",
            "14              348 2019-12-14           252.542708\n",
            "15              349 2019-12-15           252.457954\n",
            "16              350 2019-12-16           252.373199\n",
            "17              351 2019-12-17           252.288445\n",
            "18              352 2019-12-18           252.203690\n",
            "19              353 2019-12-19           252.118936\n",
            "20              354 2019-12-20           252.034181\n",
            "21              355 2019-12-21           251.949426\n",
            "22              356 2019-12-22           251.864672\n",
            "23              357 2019-12-23           251.779917\n",
            "24              358 2019-12-24           251.695163\n",
            "25              359 2019-12-25           251.610408\n",
            "26              360 2019-12-26           251.525654\n",
            "27              361 2019-12-27           251.440899\n",
            "28              362 2019-12-28           251.356145\n",
            "29              363 2019-12-29           251.271390\n",
            "30              364 2019-12-30           251.186636\n",
            "31              365 2019-12-31           251.101881\n"
          ],
          "name": "stdout"
        },
        {
          "output_type": "display_data",
          "data": {
            "image/png": "[encoded data removed]",
            "text/plain": [
              "<Figure size 1152x648 with 1 Axes>"
            ]
          },
          "metadata": {
            "tags": []
          }
        }
      ]
    }
  ]
}